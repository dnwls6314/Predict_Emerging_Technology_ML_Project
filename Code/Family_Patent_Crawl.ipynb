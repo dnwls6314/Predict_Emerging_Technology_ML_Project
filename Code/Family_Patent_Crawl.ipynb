{
 "cells": [
  {
   "cell_type": "code",
   "execution_count": 1,
   "metadata": {},
   "outputs": [],
   "source": [
    "import time\n",
    "import requests\n",
    "import pandas as pd\n",
    "import numpy as np\n",
    "import itertools\n",
    "import datetime\n",
    "import re\n",
    "import nltk\n",
    "import csv\n",
    "import urllib.request\n",
    "import openpyxl\n",
    "\n",
    "from collections import Counter\n",
    "from tqdm import tqdm\n",
    "from selenium import webdriver\n",
    "from selenium.webdriver.chrome.options import Options\n",
    "from bs4 import BeautifulSoup\n"
   ]
  },
  {
   "cell_type": "code",
   "execution_count": 3,
   "metadata": {},
   "outputs": [],
   "source": [
    "url_element_df = pd.read_excel('./data/pat_num_url.xlsx', engine='openpyxl')"
   ]
  },
  {
   "cell_type": "code",
   "execution_count": 4,
   "metadata": {},
   "outputs": [
    {
     "data": {
      "text/plain": [
       "['US9462977B2', 'US8781859B2', 'US8731962B2', 'US9256911B1', 'US9202084B2']"
      ]
     },
     "execution_count": 4,
     "metadata": {},
     "output_type": "execute_result"
    }
   ],
   "source": [
    "url_element = list(url_element_df['pat_num_for_url'])\n",
    "url_element[0:5]"
   ]
  },
  {
   "cell_type": "code",
   "execution_count": 4,
   "metadata": {},
   "outputs": [],
   "source": [
    "import random\n",
    "\n",
    "num = random.randrange(4, 11)"
   ]
  },
  {
   "cell_type": "code",
   "execution_count": 16,
   "metadata": {},
   "outputs": [],
   "source": [
    "from selenium.webdriver.common.by import By\n",
    "from selenium.webdriver.support.ui import WebDriverWait\n",
    "from selenium.webdriver.support import expected_conditions as EC\n",
    "from selenium.common.exceptions import TimeoutException"
   ]
  },
  {
   "cell_type": "code",
   "execution_count": 6,
   "metadata": {},
   "outputs": [],
   "source": [
    "chrome_options = Options()\n",
    "chrome_options.add_argument(\"--headless\")"
   ]
  },
  {
   "cell_type": "code",
   "execution_count": 6,
   "metadata": {},
   "outputs": [
    {
     "name": "stderr",
     "output_type": "stream",
     "text": [
      "100%|████████████████████████████████████████████████████████████████████████████| 1400/1400 [5:46:19<00:00, 14.84s/it]\n"
     ]
    }
   ],
   "source": [
    "family_patent_1 = []\n",
    "# Run Chrome driver\n",
    "driver = webdriver.Chrome(options=chrome_options)\n",
    "for i in tqdm(url_element[:1400]):\n",
    "    try:\n",
    "        driver.get('https://patents.google.com/patent/'+str(i))\n",
    "        element = WebDriverWait(driver, 10).until(\n",
    "        EC.presence_of_element_located((By.XPATH, '//*[@id=\"cc\"]'))\n",
    "        )\n",
    "        # Parsing\n",
    "        html_source = driver.page_source\n",
    "        soup = BeautifulSoup(html_source, 'html.parser')\n",
    "        # Number of Family Patent\n",
    "        length = len(soup.find_all('span', \"active style-scope application-timeline\"))\n",
    "        family_patent_1.append(length)\n",
    "        \n",
    "    except TimeoutException:\n",
    "        family_patent_1.append('Time Out')\n",
    "        pass\n",
    "driver.quit()"
   ]
  },
  {
   "cell_type": "code",
   "execution_count": 7,
   "metadata": {},
   "outputs": [],
   "source": [
    "family_patent_check_point_1 = family_patent_1\n",
    "family_patent_check_point_1_df = pd.DataFrame(family_patent_check_point_1)\n",
    "family_patent_check_point_1_df.to_excel('./data/family_patent_check_point_1.xlsx', encoding='utf8', index=False)"
   ]
  },
  {
   "cell_type": "code",
   "execution_count": 8,
   "metadata": {},
   "outputs": [
    {
     "name": "stderr",
     "output_type": "stream",
     "text": [
      "100%|████████████████████████████████████████████████████████████████████████████| 1400/1400 [5:46:10<00:00, 14.84s/it]\n"
     ]
    }
   ],
   "source": [
    "family_patent_2 = []\n",
    "# Run Chrome driver\n",
    "driver = webdriver.Chrome(options=chrome_options)\n",
    "for i in tqdm(url_element[1400:2800]):\n",
    "    try:\n",
    "        driver.get('https://patents.google.com/patent/'+str(i))\n",
    "        element = WebDriverWait(driver, 10).until(\n",
    "        EC.presence_of_element_located((By.XPATH, '//*[@id=\"cc\"]'))\n",
    "        )\n",
    "        # Parsing\n",
    "        html_source = driver.page_source\n",
    "        soup = BeautifulSoup(html_source, 'html.parser')\n",
    "        # Number of Family Patent\n",
    "        length = len(soup.find_all('span', \"active style-scope application-timeline\"))\n",
    "        family_patent_2.append(length)\n",
    "        \n",
    "    except TimeoutException:\n",
    "        family_patent_2.append('Time Out')\n",
    "        pass\n",
    "    \n",
    "driver.quit()"
   ]
  },
  {
   "cell_type": "code",
   "execution_count": 9,
   "metadata": {},
   "outputs": [],
   "source": [
    "family_patent_check_point_2 = family_patent_2\n",
    "family_patent_check_point_2_df = pd.DataFrame(family_patent_check_point_2)\n",
    "family_patent_check_point_2_df.to_excel('./data/family_patent_check_point_2.xlsx', encoding='utf8', index=False)"
   ]
  },
  {
   "cell_type": "code",
   "execution_count": 10,
   "metadata": {},
   "outputs": [
    {
     "name": "stderr",
     "output_type": "stream",
     "text": [
      "100%|████████████████████████████████████████████████████████████████████████████| 1400/1400 [5:09:31<00:00, 13.27s/it]\n"
     ]
    }
   ],
   "source": [
    "family_patent_3 = []\n",
    "# Run Chrome driver\n",
    "driver = webdriver.Chrome(options=chrome_options)\n",
    "for i in tqdm(url_element[2800:4200]):\n",
    "    try:\n",
    "        driver.get('https://patents.google.com/patent/'+str(i))\n",
    "        element = WebDriverWait(driver, 10).until(\n",
    "        EC.presence_of_element_located((By.XPATH, '//*[@id=\"cc\"]'))\n",
    "        )\n",
    "        # Parsing\n",
    "        html_source = driver.page_source\n",
    "        soup = BeautifulSoup(html_source, 'html.parser')\n",
    "        # Number of Family Patent\n",
    "        length = len(soup.find_all('span', \"active style-scope application-timeline\"))\n",
    "        family_patent_3.append(length)\n",
    "        \n",
    "    except TimeoutException:\n",
    "        family_patent_3.append('Time Out')\n",
    "        pass\n",
    "    \n",
    "driver.quit()"
   ]
  },
  {
   "cell_type": "code",
   "execution_count": 11,
   "metadata": {},
   "outputs": [],
   "source": [
    "family_patent_check_point_3 = family_patent_3\n",
    "family_patent_check_point_3_df = pd.DataFrame(family_patent_check_point_3)\n",
    "family_patent_check_point_3_df.to_excel('./data/family_patent_check_point_3.xlsx', encoding='utf8', index=False)"
   ]
  },
  {
   "cell_type": "code",
   "execution_count": 12,
   "metadata": {},
   "outputs": [
    {
     "name": "stderr",
     "output_type": "stream",
     "text": [
      "100%|████████████████████████████████████████████████████████████████████████████| 1400/1400 [5:12:09<00:00, 13.38s/it]\n"
     ]
    }
   ],
   "source": [
    "family_patent_4 = []\n",
    "# Run Chrome driver\n",
    "driver = webdriver.Chrome(options=chrome_options)\n",
    "for i in tqdm(url_element[4200:5600]):\n",
    "    try:\n",
    "        driver.get('https://patents.google.com/patent/'+str(i))\n",
    "        element = WebDriverWait(driver, 10).until(\n",
    "        EC.presence_of_element_located((By.XPATH, '//*[@id=\"cc\"]'))\n",
    "        )\n",
    "        # Parsing\n",
    "        html_source = driver.page_source\n",
    "        soup = BeautifulSoup(html_source, 'html.parser')\n",
    "        # Number of Family Patent\n",
    "        length = len(soup.find_all('span', \"active style-scope application-timeline\"))\n",
    "        family_patent_4.append(length)\n",
    "        \n",
    "    except TimeoutException:\n",
    "        family_patent_4.append('Time Out')\n",
    "        pass\n",
    "    \n",
    "driver.quit()"
   ]
  },
  {
   "cell_type": "code",
   "execution_count": 13,
   "metadata": {},
   "outputs": [],
   "source": [
    "family_patent_check_point_4 = family_patent_4\n",
    "family_patent_check_point_4_df = pd.DataFrame(family_patent_check_point_4)\n",
    "family_patent_check_point_4_df.to_excel('./data/family_patent_check_point_4.xlsx', encoding='utf8', index=False)"
   ]
  },
  {
   "cell_type": "code",
   "execution_count": 18,
   "metadata": {},
   "outputs": [
    {
     "name": "stderr",
     "output_type": "stream",
     "text": [
      "100%|██████████████████████████████████████████████████████████████████████████████| 1400/1400 [47:09<00:00,  2.02s/it]\n"
     ]
    }
   ],
   "source": [
    "family_patent_5 = []\n",
    "# Run Chrome driver\n",
    "driver = webdriver.Chrome(options=chrome_options)\n",
    "for i in tqdm(url_element[5600:7000]):\n",
    "    try:\n",
    "        driver.get('https://patents.google.com/patent/'+str(i))\n",
    "        element = WebDriverWait(driver, 10).until(\n",
    "        EC.presence_of_element_located((By.XPATH, '//*[@id=\"cc\"]'))\n",
    "        )\n",
    "        # Parsing\n",
    "        html_source = driver.page_source\n",
    "        soup = BeautifulSoup(html_source, 'html.parser')\n",
    "        # Number of Family Patent\n",
    "        length = len(soup.find_all('span', \"active style-scope application-timeline\"))\n",
    "        family_patent_5.append(length)\n",
    "        \n",
    "    except TimeoutException:\n",
    "        family_patent_5.append('Time Out')\n",
    "        pass\n",
    "    \n",
    "driver.quit()"
   ]
  },
  {
   "cell_type": "code",
   "execution_count": 20,
   "metadata": {},
   "outputs": [],
   "source": [
    "family_patent_check_point_5 = family_patent_5\n",
    "family_patent_check_point_5_df = pd.DataFrame(family_patent_check_point_5)\n",
    "family_patent_check_point_5_df.to_excel('./data/family_patent_check_point_5_.xlsx', encoding='utf8', index=False)"
   ]
  },
  {
   "cell_type": "code",
   "execution_count": 21,
   "metadata": {},
   "outputs": [
    {
     "data": {
      "text/plain": [
       "1400"
      ]
     },
     "execution_count": 21,
     "metadata": {},
     "output_type": "execute_result"
    }
   ],
   "source": [
    "len(family_patent_5)"
   ]
  },
  {
   "cell_type": "code",
   "execution_count": 20,
   "metadata": {},
   "outputs": [
    {
     "name": "stderr",
     "output_type": "stream",
     "text": [
      "100%|██████████████████████████████████████████████████████████████████████████████| 1400/1400 [41:13<00:00,  1.77s/it]\n"
     ]
    }
   ],
   "source": [
    "family_patent_6 = []\n",
    "# Run Chrome driver\n",
    "driver = webdriver.Chrome(options=chrome_options)\n",
    "for i in tqdm(url_element[7000:8400]):\n",
    "    try:\n",
    "        driver.get('https://patents.google.com/patent/'+str(i))\n",
    "        \n",
    "        element = WebDriverWait(driver, 10).until(\n",
    "        EC.presence_of_element_located((By.XPATH, '//*[@id=\"cc\"]'))\n",
    "        )\n",
    "        # Parsing\n",
    "        html_source = driver.page_source\n",
    "        soup = BeautifulSoup(html_source, 'html.parser')\n",
    "        # Number of Family Patent\n",
    "        length = len(soup.find_all('span', \"active style-scope application-timeline\"))\n",
    "        family_patent_6.append(length)\n",
    "        \n",
    "    except:\n",
    "        pass\n",
    "    \n",
    "driver.quit()"
   ]
  },
  {
   "cell_type": "code",
   "execution_count": 21,
   "metadata": {},
   "outputs": [],
   "source": [
    "family_patent_check_point_6 = family_patent_6\n",
    "family_patent_check_point_6_df = pd.DataFrame(family_patent_check_point_6)\n",
    "family_patent_check_point_6_df.to_excel('./data/family_patent_check_point_6.xlsx', encoding='utf8', index=False)"
   ]
  },
  {
   "cell_type": "code",
   "execution_count": 22,
   "metadata": {},
   "outputs": [
    {
     "name": "stderr",
     "output_type": "stream",
     "text": [
      "100%|██████████████████████████████████████████████████████████████████████████████| 1400/1400 [38:29<00:00,  1.65s/it]\n"
     ]
    }
   ],
   "source": [
    "family_patent_7 = []\n",
    "# Run Chrome driver\n",
    "driver = webdriver.Chrome(options=chrome_options)\n",
    "for i in tqdm(url_element[8400:9800]):\n",
    "    try:\n",
    "        driver.get('https://patents.google.com/patent/'+str(i))\n",
    "        element = WebDriverWait(driver, 10).until(\n",
    "        EC.presence_of_element_located((By.XPATH, '//*[@id=\"cc\"]'))\n",
    "        )\n",
    "        # Parsing\n",
    "        html_source = driver.page_source\n",
    "        soup = BeautifulSoup(html_source, 'html.parser')\n",
    "        # Number of Family Patent\n",
    "        length = len(soup.find_all('span', \"active style-scope application-timeline\"))\n",
    "        family_patent_7.append(length)\n",
    "        \n",
    "    except:\n",
    "        pass\n",
    "    \n",
    "driver.quit()"
   ]
  },
  {
   "cell_type": "code",
   "execution_count": 23,
   "metadata": {},
   "outputs": [],
   "source": [
    "family_patent_check_point_7 = family_patent_7\n",
    "family_patent_check_point_7_df = pd.DataFrame(family_patent_check_point_7)\n",
    "family_patent_check_point_7_df.to_excel('./data/family_patent_check_point_7.xlsx', encoding='utf8', index=False)"
   ]
  },
  {
   "cell_type": "code",
   "execution_count": 24,
   "metadata": {},
   "outputs": [
    {
     "name": "stderr",
     "output_type": "stream",
     "text": [
      "100%|██████████████████████████████████████████████████████████████████████████████| 1400/1400 [39:07<00:00,  1.68s/it]\n"
     ]
    }
   ],
   "source": [
    "family_patent_8 = []\n",
    "# Run Chrome driver\n",
    "driver = webdriver.Chrome(options=chrome_options)\n",
    "for i in tqdm(url_element[9800:11200]):\n",
    "    try:\n",
    "        driver.get('https://patents.google.com/patent/'+str(i))\n",
    "        element = WebDriverWait(driver, 10).until(\n",
    "        EC.presence_of_element_located((By.XPATH, '//*[@id=\"cc\"]'))\n",
    "        )\n",
    "        # Parsing\n",
    "        html_source = driver.page_source\n",
    "        soup = BeautifulSoup(html_source, 'html.parser')\n",
    "        # Number of Family Patent\n",
    "        length = len(soup.find_all('span', \"active style-scope application-timeline\"))\n",
    "        family_patent_8.append(length)\n",
    "        \n",
    "    except:\n",
    "        pass\n",
    "    \n",
    "driver.quit()"
   ]
  },
  {
   "cell_type": "code",
   "execution_count": 25,
   "metadata": {},
   "outputs": [],
   "source": [
    "family_patent_check_point_8 = family_patent_8\n",
    "family_patent_check_point_8_df = pd.DataFrame(family_patent_check_point_8)\n",
    "family_patent_check_point_8_df.to_excel('./data/family_patent_check_point_8.xlsx', encoding='utf8', index=False)"
   ]
  },
  {
   "cell_type": "code",
   "execution_count": 26,
   "metadata": {},
   "outputs": [
    {
     "name": "stderr",
     "output_type": "stream",
     "text": [
      "100%|██████████████████████████████████████████████████████████████████████████████| 1400/1400 [38:26<00:00,  1.65s/it]\n"
     ]
    }
   ],
   "source": [
    "family_patent_9 = []\n",
    "# Run Chrome driver\n",
    "driver = webdriver.Chrome(options=chrome_options)\n",
    "for i in tqdm(url_element[11200:12600]):\n",
    "    try:\n",
    "        driver.get('https://patents.google.com/patent/'+str(i))\n",
    "        element = WebDriverWait(driver, 10).until(\n",
    "        EC.presence_of_element_located((By.XPATH, '//*[@id=\"cc\"]'))\n",
    "        )\n",
    "        # Parsing\n",
    "        html_source = driver.page_source\n",
    "        soup = BeautifulSoup(html_source, 'html.parser')\n",
    "        # Number of Family Patent\n",
    "        length = len(soup.find_all('span', \"active style-scope application-timeline\"))\n",
    "        family_patent_9.append(length)\n",
    "        \n",
    "    except:\n",
    "        pass\n",
    "    \n",
    "driver.quit()"
   ]
  },
  {
   "cell_type": "code",
   "execution_count": 27,
   "metadata": {},
   "outputs": [],
   "source": [
    "family_patent_check_point_9 = family_patent_9\n",
    "family_patent_check_point_9_df = pd.DataFrame(family_patent_check_point_9)\n",
    "family_patent_check_point_9_df.to_excel('./data/family_patent_check_point_9.xlsx', encoding='utf8', index=False)"
   ]
  },
  {
   "cell_type": "code",
   "execution_count": 28,
   "metadata": {},
   "outputs": [
    {
     "name": "stderr",
     "output_type": "stream",
     "text": [
      "100%|██████████████████████████████████████████████████████████████████████████████| 1400/1400 [39:35<00:00,  1.70s/it]\n"
     ]
    }
   ],
   "source": [
    "family_patent_10 = []\n",
    "# Run Chrome driver\n",
    "driver = webdriver.Chrome(options=chrome_options)\n",
    "for i in tqdm(url_element[12600:14000]):\n",
    "    try:\n",
    "        driver.get('https://patents.google.com/patent/'+str(i))\n",
    "        element = WebDriverWait(driver, 10).until(\n",
    "        EC.presence_of_element_located((By.XPATH, '//*[@id=\"cc\"]'))\n",
    "        )\n",
    "        # Parsing\n",
    "        html_source = driver.page_source\n",
    "        soup = BeautifulSoup(html_source, 'html.parser')\n",
    "        # Number of Family Patent\n",
    "        length = len(soup.find_all('span', \"active style-scope application-timeline\"))\n",
    "        family_patent_10.append(length)\n",
    "        \n",
    "    except:\n",
    "        pass\n",
    "    \n",
    "driver.quit()"
   ]
  },
  {
   "cell_type": "code",
   "execution_count": 29,
   "metadata": {},
   "outputs": [],
   "source": [
    "family_patent_check_point_10 = family_patent_10\n",
    "family_patent_check_point_10_df = pd.DataFrame(family_patent_check_point_10)\n",
    "family_patent_check_point_10_df.to_excel('./data/family_patent_check_point_10.xlsx', encoding='utf8', index=False)"
   ]
  },
  {
   "cell_type": "code",
   "execution_count": 30,
   "metadata": {},
   "outputs": [
    {
     "name": "stderr",
     "output_type": "stream",
     "text": [
      "100%|████████████████████████████████████████████████████████████████████████████████| 992/992 [25:49<00:00,  1.56s/it]\n"
     ]
    }
   ],
   "source": [
    "family_patent_11 = []\n",
    "# Run Chrome driver\n",
    "driver = webdriver.Chrome(options=chrome_options)\n",
    "for i in tqdm(url_element[14000:]):\n",
    "    try:\n",
    "        driver.get('https://patents.google.com/patent/'+str(i))\n",
    "        element = WebDriverWait(driver, 10).until(\n",
    "        EC.presence_of_element_located((By.XPATH, '//*[@id=\"cc\"]'))\n",
    "        )\n",
    "        # Parsing\n",
    "        html_source = driver.page_source\n",
    "        soup = BeautifulSoup(html_source, 'html.parser')\n",
    "        # Number of Family Patent\n",
    "        length = len(soup.find_all('span', \"active style-scope application-timeline\"))\n",
    "        family_patent_11.append(length)\n",
    "        \n",
    "    except:\n",
    "        pass\n",
    "    \n",
    "driver.quit()"
   ]
  },
  {
   "cell_type": "code",
   "execution_count": 31,
   "metadata": {},
   "outputs": [],
   "source": [
    "family_patent_check_point_11 = family_patent_11\n",
    "family_patent_check_point_11_df = pd.DataFrame(family_patent_check_point_11)\n",
    "family_patent_check_point_11_df.to_excel('./data/family_patent_check_point_11.xlsx', encoding='utf8', index=False)"
   ]
  }
 ],
 "metadata": {
  "interpreter": {
   "hash": "18314f6835cd208393421bf85e0afdb984753a2c679e5348ecbcd3fb052638c6"
  },
  "kernelspec": {
   "display_name": "Python 3.8.4 64-bit",
   "language": "python",
   "name": "python38464bit613d2e8d2c6844b2ad52f5d7e2b09123"
  },
  "language_info": {
   "codemirror_mode": {
    "name": "ipython",
    "version": 3
   },
   "file_extension": ".py",
   "mimetype": "text/x-python",
   "name": "python",
   "nbconvert_exporter": "python",
   "pygments_lexer": "ipython3",
   "version": "3.8.4rc1"
  }
 },
 "nbformat": 4,
 "nbformat_minor": 4
}
